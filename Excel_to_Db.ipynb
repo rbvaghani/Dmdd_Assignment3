{
 "cells": [
  {
   "cell_type": "code",
   "execution_count": null,
   "id": "bc9c2bf4",
   "metadata": {},
   "outputs": [],
   "source": [
    "import pandas as pd\n",
    "import xlrd\n",
    "import mysql.connector\n",
    "from datetime import datetime\n",
    "import mysql.connector\n"
   ]
  },
  {
   "cell_type": "code",
   "execution_count": null,
   "id": "6824e0c3",
   "metadata": {},
   "outputs": [],
   "source": [
    "!pip install mysql-connector-python"
   ]
  },
  {
   "cell_type": "code",
   "execution_count": null,
   "id": "fbb507de",
   "metadata": {},
   "outputs": [],
   "source": [
    "now = datetime.now()"
   ]
  },
  {
   "cell_type": "code",
   "execution_count": null,
   "id": "4a13c696",
   "metadata": {},
   "outputs": [],
   "source": [
    "mydb = mysql.connector.connect(\n",
    "  host=\"localhost\",\n",
    "  user=\"root\",\n",
    "  password=\"macbookair\",\n",
    "  db = \"dmdd\"\n",
    ")\n"
   ]
  },
  {
   "cell_type": "code",
   "execution_count": null,
   "id": "cd4c7766",
   "metadata": {},
   "outputs": [],
   "source": [
    "print(mydb)"
   ]
  },
  {
   "cell_type": "code",
   "execution_count": null,
   "id": "f704c36f",
   "metadata": {},
   "outputs": [],
   "source": [
    "cursor = mydb.cursor()"
   ]
  },
  {
   "cell_type": "code",
   "execution_count": null,
   "id": "85cb93bd",
   "metadata": {},
   "outputs": [],
   "source": [
    "occupation = (\"CREATE TABLE IF NOT EXISTS occupation(occupation_id int PRIMARY KEY NOT NULL,role varchar(45) NOT NULL)\")\n",
    "cursor.execute(occupation)\n"
   ]
  },
  {
   "cell_type": "code",
   "execution_count": null,
   "id": "871761d6",
   "metadata": {},
   "outputs": [],
   "source": [
    "cursor = mydb.cursor()\n",
    "book = xlrd.open_workbook(\"/Users/ramvaghani/Documents/Dmdd_Assignment 3/Occupation.xls\")"
   ]
  },
  {
   "cell_type": "code",
   "execution_count": null,
   "id": "7621e3c9",
   "metadata": {},
   "outputs": [],
   "source": [
    "# Customer details table\n",
    "#---------------------------------------------------------------------------------------------------------------------------\n",
    "# Open the workbook and define the worksheet\n",
    "book = xlrd.open_workbook(\"/Users/ramvaghani/Documents/Dmdd_Assignment 3/Occupation.xls\")\n",
    "sheet = book.sheet_by_name(\"Occupation\")\n",
    "\n",
    "# Create the INSERT INTO sql query\n",
    "query = \"\"\"INSERT INTO occupation (occupation_id,role) VALUES (%s, %s)\"\"\"\n",
    "\n",
    "# Create a For loop to iterate through each row in the XLS file, starting at row 2 to skip the headers\n",
    "for r in range(1, sheet.nrows):\n",
    "\t\toccupation_id\t\t= sheet.cell(r,0).value\n",
    "\t\trole\t= sheet.cell(r,1).value\n",
    "\n",
    "        \n",
    "\t\t# Assign values from each row\n",
    "\t\tvalues = (occupation_id,role)\n",
    "\n",
    "\t\t# Execute sql Query\n",
    "\t\tcursor.execute(query, values)\n",
    "\n",
    "# Close the cursor\n",
    "cursor.close()\n",
    "\n",
    "# Commit the transaction\n",
    "mydb.commit()\n",
    "\n",
    "# Print results\n",
    "print (\"\")\n",
    "print (\"All Done! Bye, for now.\")\n",
    "columns = str(sheet.ncols)\n",
    "rows = str(sheet.nrows)"
   ]
  },
  {
   "cell_type": "code",
   "execution_count": null,
   "id": "25ac1ff7",
   "metadata": {},
   "outputs": [],
   "source": [
    "cursor = mydb.cursor()\n",
    "book = xlrd.open_workbook(\"/Users/ramvaghani/Documents/Dmdd_Assignment 3/CreditLoan.xls\")\n",
    "\n",
    "              \n",
    "              \n",
    "              "
   ]
  }
 ],
 "metadata": {
  "kernelspec": {
   "display_name": "Python 3 (ipykernel)",
   "language": "python",
   "name": "python3"
  },
  "language_info": {
   "codemirror_mode": {
    "name": "ipython",
    "version": 3
   },
   "file_extension": ".py",
   "mimetype": "text/x-python",
   "name": "python",
   "nbconvert_exporter": "python",
   "pygments_lexer": "ipython3",
   "version": "3.9.13"
  }
 },
 "nbformat": 4,
 "nbformat_minor": 5
}
